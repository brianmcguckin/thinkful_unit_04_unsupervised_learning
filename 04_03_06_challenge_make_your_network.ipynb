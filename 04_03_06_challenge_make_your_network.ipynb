{
 "cells": [
  {
   "cell_type": "code",
   "execution_count": 1,
   "metadata": {},
   "outputs": [],
   "source": [
    "import numpy as np\n",
    "import pandas as pd\n",
    "import matplotlib.pyplot as plt\n",
    "%matplotlib inline"
   ]
  },
  {
   "cell_type": "markdown",
   "metadata": {},
   "source": [
    "## Formula One Race Results\n",
    "Build a neural network to predict podium finishes (1, 2, 3)"
   ]
  },
  {
   "cell_type": "code",
   "execution_count": 2,
   "metadata": {},
   "outputs": [
    {
     "data": {
      "text/html": [
       "<div>\n",
       "<style scoped>\n",
       "    .dataframe tbody tr th:only-of-type {\n",
       "        vertical-align: middle;\n",
       "    }\n",
       "\n",
       "    .dataframe tbody tr th {\n",
       "        vertical-align: top;\n",
       "    }\n",
       "\n",
       "    .dataframe thead th {\n",
       "        text-align: right;\n",
       "    }\n",
       "</style>\n",
       "<table border=\"1\" class=\"dataframe\">\n",
       "  <thead>\n",
       "    <tr style=\"text-align: right;\">\n",
       "      <th></th>\n",
       "      <th>resultId</th>\n",
       "      <th>raceId</th>\n",
       "      <th>driverId</th>\n",
       "      <th>constructorId</th>\n",
       "      <th>number</th>\n",
       "      <th>grid</th>\n",
       "      <th>position</th>\n",
       "      <th>positionText</th>\n",
       "      <th>positionOrder</th>\n",
       "      <th>points</th>\n",
       "      <th>laps</th>\n",
       "      <th>time</th>\n",
       "      <th>milliseconds</th>\n",
       "      <th>fastestLap</th>\n",
       "      <th>rank</th>\n",
       "      <th>fastestLapTime</th>\n",
       "      <th>fastestLapSpeed</th>\n",
       "      <th>statusId</th>\n",
       "    </tr>\n",
       "  </thead>\n",
       "  <tbody>\n",
       "    <tr>\n",
       "      <th>0</th>\n",
       "      <td>1</td>\n",
       "      <td>18</td>\n",
       "      <td>1</td>\n",
       "      <td>1</td>\n",
       "      <td>22.0</td>\n",
       "      <td>1</td>\n",
       "      <td>1.0</td>\n",
       "      <td>1</td>\n",
       "      <td>1</td>\n",
       "      <td>10.0</td>\n",
       "      <td>58</td>\n",
       "      <td>34:50.6</td>\n",
       "      <td>5690616.0</td>\n",
       "      <td>39.0</td>\n",
       "      <td>2.0</td>\n",
       "      <td>01:27.5</td>\n",
       "      <td>218.3</td>\n",
       "      <td>1</td>\n",
       "    </tr>\n",
       "    <tr>\n",
       "      <th>1</th>\n",
       "      <td>2</td>\n",
       "      <td>18</td>\n",
       "      <td>2</td>\n",
       "      <td>2</td>\n",
       "      <td>3.0</td>\n",
       "      <td>5</td>\n",
       "      <td>2.0</td>\n",
       "      <td>2</td>\n",
       "      <td>2</td>\n",
       "      <td>8.0</td>\n",
       "      <td>58</td>\n",
       "      <td>5.478</td>\n",
       "      <td>5696094.0</td>\n",
       "      <td>41.0</td>\n",
       "      <td>3.0</td>\n",
       "      <td>01:27.7</td>\n",
       "      <td>217.586</td>\n",
       "      <td>1</td>\n",
       "    </tr>\n",
       "    <tr>\n",
       "      <th>2</th>\n",
       "      <td>3</td>\n",
       "      <td>18</td>\n",
       "      <td>3</td>\n",
       "      <td>3</td>\n",
       "      <td>7.0</td>\n",
       "      <td>7</td>\n",
       "      <td>3.0</td>\n",
       "      <td>3</td>\n",
       "      <td>3</td>\n",
       "      <td>6.0</td>\n",
       "      <td>58</td>\n",
       "      <td>8.163</td>\n",
       "      <td>5698779.0</td>\n",
       "      <td>41.0</td>\n",
       "      <td>5.0</td>\n",
       "      <td>01:28.1</td>\n",
       "      <td>216.719</td>\n",
       "      <td>1</td>\n",
       "    </tr>\n",
       "    <tr>\n",
       "      <th>3</th>\n",
       "      <td>4</td>\n",
       "      <td>18</td>\n",
       "      <td>4</td>\n",
       "      <td>4</td>\n",
       "      <td>5.0</td>\n",
       "      <td>11</td>\n",
       "      <td>4.0</td>\n",
       "      <td>4</td>\n",
       "      <td>4</td>\n",
       "      <td>5.0</td>\n",
       "      <td>58</td>\n",
       "      <td>17.181</td>\n",
       "      <td>5707797.0</td>\n",
       "      <td>58.0</td>\n",
       "      <td>7.0</td>\n",
       "      <td>01:28.6</td>\n",
       "      <td>215.464</td>\n",
       "      <td>1</td>\n",
       "    </tr>\n",
       "    <tr>\n",
       "      <th>4</th>\n",
       "      <td>5</td>\n",
       "      <td>18</td>\n",
       "      <td>5</td>\n",
       "      <td>1</td>\n",
       "      <td>23.0</td>\n",
       "      <td>3</td>\n",
       "      <td>5.0</td>\n",
       "      <td>5</td>\n",
       "      <td>5</td>\n",
       "      <td>4.0</td>\n",
       "      <td>58</td>\n",
       "      <td>18.014</td>\n",
       "      <td>5708630.0</td>\n",
       "      <td>43.0</td>\n",
       "      <td>1.0</td>\n",
       "      <td>01:27.4</td>\n",
       "      <td>218.385</td>\n",
       "      <td>1</td>\n",
       "    </tr>\n",
       "  </tbody>\n",
       "</table>\n",
       "</div>"
      ],
      "text/plain": [
       "   resultId  raceId  driverId  constructorId  number  grid  position  \\\n",
       "0         1      18         1              1    22.0     1       1.0   \n",
       "1         2      18         2              2     3.0     5       2.0   \n",
       "2         3      18         3              3     7.0     7       3.0   \n",
       "3         4      18         4              4     5.0    11       4.0   \n",
       "4         5      18         5              1    23.0     3       5.0   \n",
       "\n",
       "  positionText  positionOrder  points  laps     time  milliseconds  \\\n",
       "0            1              1    10.0    58  34:50.6     5690616.0   \n",
       "1            2              2     8.0    58    5.478     5696094.0   \n",
       "2            3              3     6.0    58    8.163     5698779.0   \n",
       "3            4              4     5.0    58   17.181     5707797.0   \n",
       "4            5              5     4.0    58   18.014     5708630.0   \n",
       "\n",
       "   fastestLap  rank fastestLapTime fastestLapSpeed  statusId  \n",
       "0        39.0   2.0        01:27.5           218.3         1  \n",
       "1        41.0   3.0        01:27.7         217.586         1  \n",
       "2        41.0   5.0        01:28.1         216.719         1  \n",
       "3        58.0   7.0        01:28.6         215.464         1  \n",
       "4        43.0   1.0        01:27.4         218.385         1  "
      ]
     },
     "execution_count": 2,
     "metadata": {},
     "output_type": "execute_result"
    }
   ],
   "source": [
    "results_raw = pd.read_csv('results.csv')\n",
    "results_raw.head()"
   ]
  },
  {
   "cell_type": "code",
   "execution_count": 3,
   "metadata": {},
   "outputs": [
    {
     "name": "stdout",
     "output_type": "stream",
     "text": [
      "<class 'pandas.core.frame.DataFrame'>\n",
      "RangeIndex: 23777 entries, 0 to 23776\n",
      "Data columns (total 18 columns):\n",
      "resultId           23777 non-null int64\n",
      "raceId             23777 non-null int64\n",
      "driverId           23777 non-null int64\n",
      "constructorId      23777 non-null int64\n",
      "number             23771 non-null float64\n",
      "grid               23777 non-null int64\n",
      "position           13227 non-null float64\n",
      "positionText       23777 non-null object\n",
      "positionOrder      23777 non-null int64\n",
      "points             23777 non-null float64\n",
      "laps               23777 non-null int64\n",
      "time               6004 non-null object\n",
      "milliseconds       6003 non-null float64\n",
      "fastestLap         5383 non-null float64\n",
      "rank               5531 non-null float64\n",
      "fastestLapTime     5383 non-null object\n",
      "fastestLapSpeed    5383 non-null object\n",
      "statusId           23777 non-null int64\n",
      "dtypes: float64(6), int64(8), object(4)\n",
      "memory usage: 3.3+ MB\n"
     ]
    }
   ],
   "source": [
    "results_raw.info()"
   ]
  },
  {
   "cell_type": "markdown",
   "metadata": {},
   "source": [
    "## Cleaning\n",
    "#### Drop\n",
    "- resultId: just another index\n",
    "- number: driver's number, long story number assignment methods have varied and could be a significant source of error\n",
    "    - maybe try adding back in later\n",
    "- position, positionText: nuanced versions of final position, best representation for this task is positionOrder\n",
    "- points: points awarded for final position, has changed a lot during history and also could be a dead giveaway\n",
    "- time, milliseconds: also dead giveaways (shortest three times are podium finishes)\n",
    "\n",
    "#### Other\n",
    "- statusId indicates the conditions under which a car finished or not\n",
    "- only keep statusId's for drivers who finished\n",
    "\n",
    "#### Missingness\n",
    "- Fastest lap info variables could explain some variance but was not available until the mid 2000s\n",
    "- Dropping for now until I come up with a better way to handle this"
   ]
  },
  {
   "cell_type": "code",
   "execution_count": 4,
   "metadata": {},
   "outputs": [],
   "source": [
    "results = results_raw.copy()\n",
    "results = results.drop(['resultId', 'number', 'position', 'positionText',\n",
    "                        'points', 'time', 'milliseconds'], 1)"
   ]
  },
  {
   "cell_type": "code",
   "execution_count": 5,
   "metadata": {},
   "outputs": [
    {
     "name": "stdout",
     "output_type": "stream",
     "text": [
      "<class 'pandas.core.frame.DataFrame'>\n",
      "RangeIndex: 23777 entries, 0 to 23776\n",
      "Data columns (total 11 columns):\n",
      "raceId             23777 non-null int64\n",
      "driverId           23777 non-null int64\n",
      "constructorId      23777 non-null int64\n",
      "grid               23777 non-null int64\n",
      "positionOrder      23777 non-null int64\n",
      "laps               23777 non-null int64\n",
      "fastestLap         5383 non-null float64\n",
      "rank               5531 non-null float64\n",
      "fastestLapTime     5383 non-null object\n",
      "fastestLapSpeed    5383 non-null object\n",
      "statusId           23777 non-null int64\n",
      "dtypes: float64(2), int64(7), object(2)\n",
      "memory usage: 2.0+ MB\n"
     ]
    }
   ],
   "source": [
    "results.info()"
   ]
  },
  {
   "cell_type": "code",
   "execution_count": 6,
   "metadata": {},
   "outputs": [],
   "source": [
    "finish_ids = [1,11,12,13,14,15,16,17,18,19,45,50,128,53,55,58,88,111,112,\n",
    "              113,114,115,116,117,118,119,120,122,123,124,125,127,133,134]\n",
    "results = results.loc[results['statusId'].isin(finish_ids)]"
   ]
  },
  {
   "cell_type": "code",
   "execution_count": 7,
   "metadata": {},
   "outputs": [
    {
     "name": "stdout",
     "output_type": "stream",
     "text": [
      "<class 'pandas.core.frame.DataFrame'>\n",
      "Int64Index: 12637 entries, 0 to 23774\n",
      "Data columns (total 7 columns):\n",
      "raceId           12637 non-null int64\n",
      "driverId         12637 non-null int64\n",
      "constructorId    12637 non-null int64\n",
      "grid             12637 non-null int64\n",
      "positionOrder    12637 non-null int64\n",
      "laps             12637 non-null int64\n",
      "statusId         12637 non-null int64\n",
      "dtypes: int64(7)\n",
      "memory usage: 789.8 KB\n"
     ]
    }
   ],
   "source": [
    "results = results.drop(['fastestLap', 'rank',\n",
    "                        'fastestLapTime', 'fastestLapSpeed'], 1)\n",
    "results.info()"
   ]
  },
  {
   "cell_type": "code",
   "execution_count": 8,
   "metadata": {},
   "outputs": [
    {
     "name": "stdout",
     "output_type": "stream",
     "text": [
      "0    9694\n",
      "1    2943\n",
      "Name: positionOrder, dtype: int64\n"
     ]
    }
   ],
   "source": [
    "#create classes for podium finish (1) or not (0)\n",
    "results['positionOrder'] = results['positionOrder'].apply(\n",
    "    lambda x: 1 if x <= 3 else 0)\n",
    "\n",
    "#probably gonna have class imbalance problem\n",
    "print(results['positionOrder'].value_counts())"
   ]
  },
  {
   "cell_type": "code",
   "execution_count": 9,
   "metadata": {},
   "outputs": [],
   "source": [
    "#convert other id variables to cat and create dummies\n",
    "results['raceId'] = results['raceId'].astype(str)\n",
    "results['driverId'] = results['driverId'].astype(str)\n",
    "results['constructorId'] = results['constructorId'].astype(str)\n",
    "results['statusId'] = results['statusId'].astype(str)\n",
    "\n",
    "raceId = pd.get_dummies(results.raceId)\n",
    "driverId = pd.get_dummies(results.driverId)\n",
    "constructorId = pd.get_dummies(results.constructorId)\n",
    "statusId = pd.get_dummies(results.statusId)\n",
    "\n",
    "results_no_dummies = results.drop(['raceId', 'driverId', 'constructorId', 'statusId'], 1)"
   ]
  },
  {
   "cell_type": "code",
   "execution_count": 31,
   "metadata": {},
   "outputs": [],
   "source": [
    "#put driverId, constructorId back in\n",
    "results_ = pd.concat([results_no_dummies, driverId, constructorId], axis=1)"
   ]
  },
  {
   "cell_type": "code",
   "execution_count": 32,
   "metadata": {},
   "outputs": [],
   "source": [
    "#separate majority and minority classes for even train/test split\n",
    "podium_0 = results_.loc[results_['positionOrder'] == 0]\n",
    "podium_1 = results_.loc[results_['positionOrder'] == 1]\n",
    "\n",
    "X_0 = podium_0.drop(['positionOrder'], 1)\n",
    "y_0 = podium_0['positionOrder']\n",
    "X_1 = podium_1.drop(['positionOrder'], 1)\n",
    "y_1 = podium_1['positionOrder']"
   ]
  },
  {
   "cell_type": "code",
   "execution_count": 33,
   "metadata": {},
   "outputs": [
    {
     "name": "stdout",
     "output_type": "stream",
     "text": [
      "True\n",
      "True\n"
     ]
    }
   ],
   "source": [
    "print(len(X_0) == len(y_0))\n",
    "print(len(X_1) == len(y_1))"
   ]
  },
  {
   "cell_type": "code",
   "execution_count": 34,
   "metadata": {},
   "outputs": [],
   "source": [
    "from sklearn.model_selection import train_test_split\n",
    "#majority class\n",
    "X_train0, X_test0, y_train0, y_test0 = train_test_split(X_0,\n",
    "                                                        y_0,\n",
    "                                                        test_size=0.2)\n",
    "#minority class\n",
    "X_train1, X_test1, y_train1, y_test1 = train_test_split(X_1,\n",
    "                                                        y_1,\n",
    "                                                        test_size=0.2)\n",
    "\n",
    "#combine to create class proportional train & test sets\n",
    "X_train = pd.concat([X_train0, X_train1])\n",
    "X_test = pd.concat([X_test0, X_test1]) \n",
    "y_train = pd.concat([y_train0, y_train1])\n",
    "y_test = pd.concat([y_test0, y_test1])"
   ]
  },
  {
   "cell_type": "code",
   "execution_count": 35,
   "metadata": {},
   "outputs": [
    {
     "name": "stdout",
     "output_type": "stream",
     "text": [
      "True\n",
      "True\n"
     ]
    }
   ],
   "source": [
    "print(len(X_train) == len(y_train))\n",
    "print(len(X_test) == len(y_test))"
   ]
  },
  {
   "cell_type": "code",
   "execution_count": 36,
   "metadata": {},
   "outputs": [
    {
     "name": "stdout",
     "output_type": "stream",
     "text": [
      "train class balance: 50.0%\n",
      "test class balance: 50.0%\n"
     ]
    }
   ],
   "source": [
    "import imblearn\n",
    "from imblearn.over_sampling import RandomOverSampler\n",
    "\n",
    "#random oversample train & test sets\n",
    "X_train_ros, y_train_ros = RandomOverSampler().fit_sample(X_train, y_train)\n",
    "X_test_ros, y_test_ros = RandomOverSampler().fit_sample(X_test, y_test)\n",
    "\n",
    "#make sure it worked\n",
    "print('train class balance: {}%'.format(len(y_train_ros[y_train_ros == 1]) / len(y_train_ros) * 100))\n",
    "print('test class balance: {}%'.format(len(y_test_ros[y_test_ros == 1]) / len(y_test_ros) * 100))"
   ]
  },
  {
   "cell_type": "markdown",
   "metadata": {},
   "source": [
    "## Multi-layer perceptron neural net"
   ]
  },
  {
   "cell_type": "code",
   "execution_count": 37,
   "metadata": {},
   "outputs": [
    {
     "name": "stdout",
     "output_type": "stream",
     "text": [
      "0.8936814958091553\n",
      "223.48893600000002 seconds\n"
     ]
    }
   ],
   "source": [
    "from sklearn.neural_network import MLPClassifier\n",
    "import time\n",
    "\n",
    "start_time = time.clock()\n",
    "mlp = MLPClassifier(hidden_layer_sizes=(1000,)).fit(X_train_ros, y_train_ros)\n",
    "print(mlp.score(X_train_ros, y_train_ros))\n",
    "print('{} seconds'.format(time.clock() - start_time))"
   ]
  },
  {
   "cell_type": "code",
   "execution_count": 38,
   "metadata": {},
   "outputs": [
    {
     "name": "stdout",
     "output_type": "stream",
     "text": [
      "train set cv=5\n",
      "[0.84300451 0.84945197 0.85686654 0.85815603 0.85525467]\n",
      "455.99673999999993 seconds\n"
     ]
    }
   ],
   "source": [
    "from sklearn.model_selection import cross_val_score\n",
    "start_time = time.clock()\n",
    "print('train set cv=5')\n",
    "print(cross_val_score(mlp, X_train_ros, y_train_ros, cv=5))\n",
    "print('{} seconds'.format(time.clock() - start_time))"
   ]
  },
  {
   "cell_type": "code",
   "execution_count": 39,
   "metadata": {},
   "outputs": [
    {
     "name": "stdout",
     "output_type": "stream",
     "text": [
      "test set cv=5\n",
      "[0.8492268  0.86469072 0.8685567  0.86726804 0.88113695]\n",
      "114.90104899999983 seconds\n"
     ]
    }
   ],
   "source": [
    "start_time = time.clock()\n",
    "print('test set cv=5')\n",
    "print(cross_val_score(mlp, X_test_ros, y_test_ros, cv=5))\n",
    "print('{} seconds'.format(time.clock() - start_time))"
   ]
  },
  {
   "cell_type": "code",
   "execution_count": 42,
   "metadata": {},
   "outputs": [
    {
     "name": "stdout",
     "output_type": "stream",
     "text": [
      "0.9190844616376531\n",
      "208.12137800000028 seconds\n"
     ]
    }
   ],
   "source": [
    "start_time = time.clock()\n",
    "mlp = MLPClassifier(hidden_layer_sizes=(500,250,250,)\n",
    "                   ).fit(X_train_ros, y_train_ros)\n",
    "print(mlp.score(X_train_ros, y_train_ros))\n",
    "print('{} seconds'.format(time.clock() - start_time))"
   ]
  },
  {
   "cell_type": "code",
   "execution_count": 43,
   "metadata": {},
   "outputs": [
    {
     "name": "stdout",
     "output_type": "stream",
     "text": [
      "train set cv=5\n",
      "[0.85041908 0.85557705 0.85299807 0.8136686  0.8549323 ]\n",
      "446.36512900000025 seconds\n"
     ]
    }
   ],
   "source": [
    "start_time = time.clock()\n",
    "print('train set cv=5')\n",
    "print(cross_val_score(mlp, X_train_ros, y_train_ros, cv=5))\n",
    "print('{} seconds'.format(time.clock() - start_time))"
   ]
  },
  {
   "cell_type": "code",
   "execution_count": 44,
   "metadata": {},
   "outputs": [
    {
     "name": "stdout",
     "output_type": "stream",
     "text": [
      "test set cv=5\n",
      "[0.85051546 0.86340206 0.82603093 0.87113402 0.87855297]\n",
      "57.57107499999984 seconds\n"
     ]
    }
   ],
   "source": [
    "start_time = time.clock()\n",
    "print('test set cv=5')\n",
    "print(cross_val_score(mlp, X_test_ros, y_test_ros, cv=5))\n",
    "print('{} seconds'.format(time.clock() - start_time))"
   ]
  },
  {
   "cell_type": "markdown",
   "metadata": {},
   "source": [
    "## Random Forest"
   ]
  },
  {
   "cell_type": "code",
   "execution_count": 45,
   "metadata": {},
   "outputs": [
    {
     "name": "stdout",
     "output_type": "stream",
     "text": [
      "train set cv=5\n",
      "[0.90651193 0.9174726  0.93068988 0.92617666 0.93197937]\n",
      "62.7291009999999 seconds\n"
     ]
    }
   ],
   "source": [
    "from sklearn import ensemble\n",
    "from sklearn.ensemble import RandomForestClassifier\n",
    "\n",
    "start_times = time.clock()\n",
    "rfc = RandomForestClassifier().fit(X_train_ros, y_train_ros)\n",
    "print('train set cv=5')\n",
    "print(cross_val_score(rfc, X_train_ros, y_train_ros, cv=5))\n",
    "print('{} seconds'.format(time.clock() - start_time))"
   ]
  },
  {
   "cell_type": "code",
   "execution_count": 46,
   "metadata": {},
   "outputs": [
    {
     "name": "stdout",
     "output_type": "stream",
     "text": [
      "test set cv=5\n",
      "[0.90979381 0.91752577 0.94201031 0.93298969 0.95348837]\n",
      "0.5986440000001494 seconds\n"
     ]
    }
   ],
   "source": [
    "start_time = time.clock()\n",
    "print('test set cv=5')\n",
    "print(cross_val_score(rfc, X_test_ros, y_test_ros, cv=5))\n",
    "print('{} seconds'.format(time.clock() - start_time))"
   ]
  },
  {
   "cell_type": "markdown",
   "metadata": {},
   "source": [
    "## Gradient Boosting Classifier"
   ]
  },
  {
   "cell_type": "code",
   "execution_count": 47,
   "metadata": {},
   "outputs": [
    {
     "name": "stdout",
     "output_type": "stream",
     "text": [
      "train set cv=5\n",
      "[0.83687943 0.84332689 0.83333333 0.84364926 0.8349452 ]\n",
      "210.767785 seconds\n"
     ]
    }
   ],
   "source": [
    "from sklearn.ensemble import GradientBoostingClassifier\n",
    "\n",
    "start_time = time.clock()\n",
    "gbc = ensemble.GradientBoostingClassifier().fit(X_train_ros, y_train_ros)\n",
    "print('train set cv=5')\n",
    "print(cross_val_score(gbc, X_train_ros, y_train_ros, cv=5))\n",
    "print('{} seconds'.format(time.clock() - start_time))"
   ]
  },
  {
   "cell_type": "code",
   "execution_count": 48,
   "metadata": {},
   "outputs": [
    {
     "name": "stdout",
     "output_type": "stream",
     "text": [
      "test set cv=5\n",
      "[0.84407216 0.85438144 0.85309278 0.85438144 0.88501292]\n",
      "23.579212000000098 seconds\n"
     ]
    }
   ],
   "source": [
    "start_time = time.clock()\n",
    "print('test set cv=5')\n",
    "print(cross_val_score(gbc, X_test_ros, y_test_ros, cv=5))\n",
    "print('{} seconds'.format(time.clock() - start_time))"
   ]
  },
  {
   "cell_type": "markdown",
   "metadata": {},
   "source": [
    "## Results\n",
    "Considering all they have to train on is driver, constructor, and grid position information, all models performed much better than I expected them to. Random forest however is the best performing model for this classification task, and by a significant margin. It is also by far the fastest model to train and run.\n",
    "\n",
    "Compared to earlier rounds missing constructor & driver data, NN sees the most improvement in scores from having the additional data, but also a significant increase in time to train. Considering the quality of results I got from only including what I could from this file (dataset has a few other files to draw from), I would like to spend more time on predicting race results as a portfolio project or just for fun."
   ]
  },
  {
   "cell_type": "code",
   "execution_count": null,
   "metadata": {},
   "outputs": [],
   "source": []
  }
 ],
 "metadata": {
  "kernelspec": {
   "display_name": "Python 3",
   "language": "python",
   "name": "python3"
  },
  "language_info": {
   "codemirror_mode": {
    "name": "ipython",
    "version": 3
   },
   "file_extension": ".py",
   "mimetype": "text/x-python",
   "name": "python",
   "nbconvert_exporter": "python",
   "pygments_lexer": "ipython3",
   "version": "3.6.5"
  }
 },
 "nbformat": 4,
 "nbformat_minor": 2
}
