{
 "cells": [
  {
   "cell_type": "markdown",
   "metadata": {},
   "source": [
    "# What is a cluster?\n",
    "\n",
    "For dealing with more than one variable at a time, let algorithms organize data points with similar characteristics into groups\n",
    "- __Algorithmic cluster:__ set of data points that have been determined to be more similar to one another than to other data points\n",
    "    - __Hard clustering:__ each data point assigned to one cluster\n",
    "    - __Soft clustering:__ each data point is assigned a degree of membership for every cluster\n",
    "- Different clustering methods determine similarity differently    \n",
    "\n",
    "### Clustering use\n",
    "- Generate features for a model\n",
    "- Learn about associations between data points\n",
    "However...\n",
    "1. Data must be normalized before clustering\n",
    "    - All variables have equal potential impact on the clustering algorithm\n",
    "2. Not all clusters are necessarily meaningful\n",
    "    - If too many clusters are requested or created, groups will be split on trivial differences (overfitting)\n",
    "    - If there are too few clusters, won't glean much information and real differences between datapoints can be obscured\n",
    "    \n",
    "### Hierarchical clustering\n",
    "Lower-level clusters are formed and then grouped into higher-level clusters\n",
    "- Useful for finding subdivisions within a larger cluster\n",
    "- Example: 4 clusters, young men, young women, older men, older women\n",
    "    - These alone don't say anything about similarity, eg if young men are more similar to young women or to older men\n",
    "    - Can add 2 high level clusters, men vs. women, young vs. old, to show similarities"
   ]
  },
  {
   "cell_type": "code",
   "execution_count": null,
   "metadata": {},
   "outputs": [],
   "source": []
  }
 ],
 "metadata": {
  "kernelspec": {
   "display_name": "Python 3",
   "language": "python",
   "name": "python3"
  },
  "language_info": {
   "codemirror_mode": {
    "name": "ipython",
    "version": 3
   },
   "file_extension": ".py",
   "mimetype": "text/x-python",
   "name": "python",
   "nbconvert_exporter": "python",
   "pygments_lexer": "ipython3",
   "version": "3.6.5"
  }
 },
 "nbformat": 4,
 "nbformat_minor": 2
}
