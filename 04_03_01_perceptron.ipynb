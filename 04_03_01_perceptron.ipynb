{
 "cells": [
  {
   "cell_type": "code",
   "execution_count": 1,
   "metadata": {},
   "outputs": [],
   "source": [
    "import numpy as np\n",
    "import pandas as pd\n",
    "import matplotlib.pyplot as plt\n",
    "%matplotlib inline"
   ]
  },
  {
   "cell_type": "markdown",
   "metadata": {},
   "source": [
    "## Perceptron Models\n",
    "Form the basis of neural networks & evolved from linear regression\n",
    "- Rely on same linear specification $y = \\alpha + \\beta X$ but is used for classification\n",
    "- Turns function into a rule to classify into groups A and B:\n",
    "$$\\alpha + \\beta X \\geq 0 : A $$\n",
    "$$ \\alpha + \\beta X < 0 : B$$\n",
    "    - $\\alpha =$ the shift, way of regularizing the boundary to zero\n",
    "    - $\\beta =$ the weight, controls the influence of variables linearly a la OLS\n",
    "- Perceptron cost minimization\n",
    "    - Sum of the output of functional form from all misclassified examples (aka minimizes classifier error)\n",
    "    - If a boundary with errors is created, take absolute value of misclassified observations and sums to get cost\n",
    "    - Boundaries that correctly divide all datapoints have zero cost\n",
    "    - This simple perceptron outcome is binary\n",
    "- Common practice: invoking a gradient curve, prediction will take non-binary values between 0 and 1\n",
    "    - Logistic/sigmoid curve: gives a nice S shape\n",
    "    $$ \\frac{1}{1+e^{-x}} $$\n",
    "    - Continuous outputs allows for more subtlety in perceptron model (and thus in NNs)"
   ]
  },
  {
   "cell_type": "code",
   "execution_count": 2,
   "metadata": {},
   "outputs": [],
   "source": [
    "test_data = pd.DataFrame()\n",
    "\n",
    "test_data['test'] = [90, 100, 85, 93, 88, 100, 97, 92, 89, 84,\n",
    "                     55, 65, 75, 58, 69, 71, 72, 63, 70, 59]\n",
    "test_data['project'] = [100, 85, 98, 88, 87, 99, 99, 86, 89, 100,\n",
    "                        67, 71, 74, 73, 55, 59, 56, 72, 67, 72]\n",
    "test_data['pass'] = ['pass', 'pass', 'pass', 'pass', 'pass',\n",
    "                     'pass', 'pass', 'pass', 'pass', 'pass',\n",
    "                     'fail', 'fail', 'fail', 'fail', 'fail',\n",
    "                     'fail', 'fail', 'fail', 'fail', 'fail']"
   ]
  },
  {
   "cell_type": "code",
   "execution_count": 5,
   "metadata": {},
   "outputs": [
    {
     "name": "stdout",
     "output_type": "stream",
     "text": [
      "score: 1.0\n"
     ]
    }
   ],
   "source": [
    "from sklearn.linear_model import Perceptron\n",
    "\n",
    "X = test_data[['test', 'project']]\n",
    "Y = test_data['pass']\n",
    "\n",
    "#fit model\n",
    "#10,000 iterations to help ensure accuracy as data is non-normalized\n",
    "perceptron = Perceptron(max_iter=10000)\n",
    "perceptron.fit(X,Y)\n",
    "\n",
    "#get params\n",
    "print('score: ' + str(perceptron.score(X,Y)))"
   ]
  },
  {
   "cell_type": "code",
   "execution_count": 6,
   "metadata": {},
   "outputs": [
    {
     "data": {
      "image/png": "[encoded data removed]",
      "text/plain": [
       "<Figure size 432x288 with 1 Axes>"
      ]
     },
     "metadata": {},
     "output_type": "display_data"
    }
   ],
   "source": [
    "#establish mesh\n",
    "x_min, x_max = X.test.min() - 1, X.test.max() + 3\n",
    "y_min, y_max = X.project.min() - 1, X.project.max() + 3\n",
    "xx, yy = np.meshgrid(np.arange(x_min, x_max, .1),\n",
    "                     np.arange(y_min, y_max, .1))\n",
    "\n",
    "#predict over mesh\n",
    "Z = (perceptron.predict(np.c_[xx.ravel(), yy.ravel()])=='pass')\n",
    "\n",
    "#reshape prediction to be plottable & plot\n",
    "Z = Z.reshape(xx.shape)\n",
    "\n",
    "plt.contourf(xx, yy, Z, cmap=plt.cm.coolwarm, alpha=0.8)\n",
    "plt.scatter(test_data.project[0:10], test_data.test[0:10], marker='x')\n",
    "plt.scatter(test_data.project[10:20], test_data.test[10:20], marker='o')\n",
    "\n",
    "#aesthetics\n",
    "plt.xlim(x_min, x_max)\n",
    "plt.ylim(y_min, y_max)\n",
    "plt.xlabel('project grade')\n",
    "plt.ylabel('test grade')\n",
    "plt.title('passing grade perceptron example')\n",
    "plt.show()"
   ]
  },
  {
   "cell_type": "markdown",
   "metadata": {},
   "source": [
    "__Result:__ simplicity of the perceptron cost function means it continues to try new things until it meets the condition that every point is classified correctly (cost is zero), at which point it stops\n",
    "- Inefficient, many iterations\n",
    "- Compare to decision tree: not great on their own but ensemble methods result in very powerful models\n",
    "- At its core, a neural network is just an ensemble of perceptrons"
   ]
  },
  {
   "cell_type": "code",
   "execution_count": null,
   "metadata": {},
   "outputs": [],
   "source": []
  }
 ],
 "metadata": {
  "kernelspec": {
   "display_name": "Python 3",
   "language": "python",
   "name": "python3"
  },
  "language_info": {
   "codemirror_mode": {
    "name": "ipython",
    "version": 3
   },
   "file_extension": ".py",
   "mimetype": "text/x-python",
   "name": "python",
   "nbconvert_exporter": "python",
   "pygments_lexer": "ipython3",
   "version": "3.6.5"
  }
 },
 "nbformat": 4,
 "nbformat_minor": 2
}
