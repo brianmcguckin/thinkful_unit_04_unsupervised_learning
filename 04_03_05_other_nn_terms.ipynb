{
 "cells": [
  {
   "cell_type": "markdown",
   "metadata": {},
   "source": [
    "## Recursive neural networks\n",
    "- Every NN so far has been in a feedforward context, clear directionality (flow) to the network\n",
    "- **Recursive neural networks (RNN):** data runs through nodes or neurons more than once\n",
    "- Useful for drawing out more complex relationships\n",
    "\n",
    "## Convolutional neural networks\n",
    "- So far, neurons linked together in grid-like structure, represented using matrices\n",
    "- Link between layers is simple matrix multiplication\n",
    "- **Convolutions** are an added level of complexity by linking matrices together via linear equations\n",
    "- Linear transformations are specialized and can have a large impact on the network\n",
    "\n",
    "## Deep learning\n",
    "- Defined as a neural network with several hidden layers\n",
    "- No hard threshold for number of layers to qualify as 'deep'\n",
    "- Downsides: added complexity (increased runtime), increasingly black box\n",
    "\n",
    "## Reinforcement learning\n",
    "- Model gets feedback from its environment or system\n",
    "- Model tries actions at random and observes the feedback it receives\n",
    "- Learns a way to operate through a series of events that generates the most positive feedback\n",
    "- Useful for automating tasks (video games, driving)\n",
    "- Requires different kind of data (not readily available) and significant engineering background to properly link feedback loop"
   ]
  },
  {
   "cell_type": "code",
   "execution_count": null,
   "metadata": {},
   "outputs": [],
   "source": []
  }
 ],
 "metadata": {
  "kernelspec": {
   "display_name": "Python 3",
   "language": "python",
   "name": "python3"
  },
  "language_info": {
   "codemirror_mode": {
    "name": "ipython",
    "version": 3
   },
   "file_extension": ".py",
   "mimetype": "text/x-python",
   "name": "python",
   "nbconvert_exporter": "python",
   "pygments_lexer": "ipython3",
   "version": "3.6.5"
  }
 },
 "nbformat": 4,
 "nbformat_minor": 2
}
